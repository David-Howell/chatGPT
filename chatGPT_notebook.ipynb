{
 "cells": [
  {
   "cell_type": "markdown",
   "metadata": {},
   "source": [
    "<font size=\"4\">\n",
    "\n",
    "# So I asked chatGPT\n",
    "\n",
    "<head>\n",
    "<style>\n",
    "  div {\n",
    "    max-width: 800px;\n",
    "  min-width: 100px;\n",
    "  background-color: white;\n",
    "}\n",
    "</style>\n",
    "</head>\n",
    "<font color=\"black\">\n",
    "\n",
    "  ***\n",
    "## Introduction\n",
    "  ***\n",
    "<b>Below is the tale of my experience asking chatGPT how it would approach a Data Science problem. Namely, the classic Titanic classification problem.\n",
    "<br><br>\n",
    "Now this is hardly an exhaustive exploration of this nitch of the technology, I started with as simple a one-sentence question as I could. And asked chatGPT to give it to me in python; that's it.\n",
    "And though I did NOT explicitly ask for an MVP, that is exactly what it gave me.\n",
    "<br><br>\n",
    "While there are multiple caveats—at least some of which we address—the overall performance of chatGPT in giving decent code with comments on this niche topic is really impressive.\n",
    "\n",
    "* [must have titanic.csv](#init)\n",
    "* I hurdled the column names that I had changed\n",
    "* I had to prompt it for a validation set, which it did incredibly well... And explained why we were doing it.\n",
    "* The 2 errors that were overcome by chatGPT/ which were really preprocessing, which I never asked it to do in the first sentence\n",
    "\n"
   ]
  },
  {
   "cell_type": "markdown",
   "metadata": {},
   "source": [
    "\n",
    "<head>\n",
    "<style>\n",
    "  div {\n",
    "    max-width: 800px;\n",
    "  min-width: 100px;\n",
    "  background-color: white;\n",
    "}\n",
    "</style>\n",
    "</head>\n",
    "<font size=\"4\">\n",
    "<font color=\"black\">\n",
    "\n",
    "  ***\n",
    "<a id=\"init\"></a>\n",
    "\n",
    "## Init ask:\n",
    "  ***\n",
    "\n",
    "To start off I was trying to stay as simple as possible in my request to chatGPT.\n",
    "<br><br>\n",
    "I asked it how it would use <u>EDA</u> and <u>ML models</u> to classify the passengers, and that it use Python to show me.\n",
    "<br><br>\n",
    "That's it.  And that's all it gives me right away. I'm guessing that because I didn't ask it acquire or prepare the data, it assumed that I had already done that sufficiently.\n",
    "<br><br>\n",
    "\n",
    "\n",
    "\n",
    "<b> <u>Me</u>: </b> \n",
    "<font color=\"blue\">\n",
    "<br><br>\n",
    "  how would you use exploratory data analysis and machine learning models to classify the passengers of the titanic as passengers who survived and passengers that perished? Please show me using python\n",
    "<font color=\"black\">\n",
    "<br><br>\n",
    "<b> <u>chatGPT</u>: </b> \n",
    "<font color=\"green\">\n",
    "<br><br>\n",
    "  To classify the passengers of the Titanic as survivors and those who perished, we would first need to obtain the data on the passengers. This data could include information such as their age, sex, cabin class, and whether they survived or not.\n",
    "\n",
    "Next, we would perform exploratory data analysis on the data to gain insights and identify patterns. This could involve visualizing the data using graphs and charts, calculating summary statistics, and looking for correlations between different variables.\n",
    "\n",
    "Once we have a good understanding of the data, we would then use a machine learning algorithm to train a model on the data. This could be a classification algorithm such as logistic regression, decision trees, or support vector machines. The goal of the model would be to learn the relationship between the different variables in the data and the outcome (whether a passenger survived or not).\n",
    "\n",
    "To train the model, we would split the data into a training set and a test set. The model would be trained on the training set, and then its performance would be evaluated on the test set. This would give us an idea of how well the model is able to classify the passengers as survivors or those who perished.\n",
    "\n",
    "Here is an example of how this could be done in Python:\n",
    "\n",
    "<font size=\"2\">\n",
    "\n",
    "\n",
    "> ```python\n",
    "> # Import libraries\n",
    "> import pandas as pd\n",
    "> import matplotlib.pyplot as plt\n",
    "> from sklearn.model_selection import train_test_split\n",
    "> from sklearn.linear_model import LogisticRegression\n",
    "> \n",
    "> # Load the data\n",
    "> data = pd.read_csv('titanic.csv')\n",
    "> \n",
    "> # Perform exploratory data analysis\n",
    "> data.describe()\n",
    "> data.groupby(['Sex', 'Survived']).size().plot(kind='bar')\n",
    "> \n",
    "> # Prepare the data for modeling\n",
    "> X = data[['Age', 'Sex', 'Pclass']]\n",
    "> y = data['Survived']\n",
    "> \n",
    "> # Split the data into a training set and a test set\n",
    "> X_train, X_test, y_train, y_test = train_test_split(X, y, test_size=0.2)\n",
    "> \n",
    "> # Train a logistic regression model\n",
    "> model = LogisticRegression()\n",
    "> model.fit(X_train, y_train)\n",
    "> \n",
    "> # Evaluate the model on the test set\n",
    "> accuracy = model.score(X_test, y_test)\n",
    "> print('Accuracy:', accuracy)\n",
    "> ```\n",
    "\n",
    "<br><br>\n",
    "<font size=\"4\">\n",
    "This is just one possible approach to solving this problem using exploratory data analysis and machine learning. There are many other algorithms and techniques that could also be used to classify the passengers of the Titanic.\n",
    "<br><br>\n",
    "<font color=\"black\">\n",
    "<a id=\"init_reaction\"></a>\n",
    "\n",
    "***\n"
   ]
  },
  {
   "cell_type": "markdown",
   "metadata": {},
   "source": [
    "<head>\n",
    "<style>\n",
    "  div {\n",
    "    max-width: 800px;\n",
    "  min-width: 100px;\n",
    "  background-color: white;\n",
    "}\n",
    "</style>\n",
    "</head>\n",
    "<font size=\"4\">\n",
    "<font color=\"black\">\n",
    "\n",
    "## Init Reaction:\n",
    "***\n",
    "\n",
    "So the first time reading through this, I'm just pretty much <font size=\"5\">BLOWN AWAY<font size=\"4\">.\n",
    "<br><br>\n",
    "I mean I'd seen some of the copilot stuff, and I knew going in that it was going to give me something that should be at least a semblance of sensible. But this is on another level.\n",
    "<br><br>\n",
    "We'll dig a little deeper here in a minute, but let's first just look at some of the things it did right, and well.\n",
    "  - Picked some features\n",
    "    It went ahead and grabbed 3 features to use and our target variable. Very much the way anyone might give an \"example\" case or go for an MVP.\n",
    "  - Simple and succinct\n",
    "    It describes the basic idea of the processes of EDA and Modeling and the goal.\n",
    "  - Code\n",
    "    Clean, commented, conventional imports, uses bracket notation\n",
    "\n",
    "Reviewing chatGPT's code I realized it wanted me to provide it with the titanic.csv—which I conviently still have sitting in my classification-exercises folder...\n",
    "> `$ cp ~/.../titanic.csv titanic.csv`\n",
    "\n",
    "Additionally, I know that my `titanic.csv` already has lowercase column names, but I figure since that's something I changed I can just fix that myself.\n",
    "<br><br>\n",
    "Before running this though, I just don't feel right running any experiments withouth having a validation set and test set—idk I was just raised as a Data Scientist this way.\n",
    "\n",
    "***\n",
    "## Ask for an Adjustment\n",
    "***\n",
    "Instead of taking the initial copy pasta to my plate and cutting and swirling it myself, I decided to ask chatGPT how it would update the code to include a validatioin\n",
    "\n",
    "<font color=\"black\">\n",
    "<b> <u>Me</u>:</b> \n",
    "<br><br>\n",
    "<font color=\"blue\">\n",
    "What if I asked you to run the exploration and modeling on a training set while holding out both a validation set and a test set. how would you update the code?\n",
    "<br><br>\n",
    "<font color=\"black\">\n",
    "<b><u> chatGPT</u>: </b>\n",
    "<br><br> \n",
    "<font color=\"green\">\n",
    "To run the exploratory data analysis and modeling on a training set while holding out a validation set and a test set, you would need to split the data into three sets: a training set, a validation set, and a test set.\n",
    "\n",
    "The training set would be used to train the model, the validation set would be used to evaluate the model and tune its hyperparameters, and the test set would be used to evaluate the final performance of the model.\n",
    "\n",
    "Here is how this could be done in Python using `scikit-learn`:\n",
    "\n",
    "<font size=\"2\">\n",
    "\n",
    "> ```python\n",
    "> \n",
    ">     # Import libraries\n",
    ">     import pandas as pd\n",
    ">     import matplotlib.pyplot as plt\n",
    ">     from sklearn.model_selection import train_test_split\n",
    ">     from sklearn.linear_model import LogisticRegression\n",
    "> \n",
    ">     # Load the data\n",
    ">     data = pd.read_csv('titanic.csv')\n",
    "> \n",
    ">     # Perform exploratory data analysis\n",
    ">     data.describe()\n",
    ">     data.groupby(['Sex', 'Survived']).size().plot(kind='bar')\n",
    "> \n",
    ">     # Prepare the data for modeling\n",
    ">     X = data[['Age', 'Sex', 'Pclass']]\n",
    ">     y = data['Survived']\n",
    "> \n",
    ">     # Split the data into a training set, a validation set, and a test set\n",
    ">     # Stratify the splits by the target variable\n",
    ">     X_train, X_val, y_train, y_val = train_test_split(X, y, test_size=0.2, stratify=y)\n",
    ">     X_val, X_test, y_val, y_test = train_test_split(X_val, y_val, test_size=0.5, stratify=y_val)\n",
    "> \n",
    ">     # Train a logistic regression model\n",
    ">     model = LogisticRegression()\n",
    ">     model.fit(X_train, y_train)\n",
    "> \n",
    ">     # Evaluate the model on the validation set\n",
    ">     accuracy = model.score(X_val, y_val)\n",
    ">     print('Accuracy:', accuracy)\n",
    "> \n",
    ">     # Tune the model's hyperparameters using the validation set\n",
    ">     # ...\n",
    "> \n",
    ">     # Evaluate the final model on the test set\n",
    ">     accuracy = model.score(X_test, y_test)\n",
    ">     print('Accuracy:', accuracy)\n",
    "> ```\n",
    "***\n",
    "<br>\n",
    "<font size=\"4\">\n",
    "\n",
    "In this code, the data is first split into a training set, a validation set, and a test set using the train_test_split function from scikit-learn. The training set is used to train the model, the validation set is used to evaluate the model and tune its hyperparameters, and the test set is used to evaluate the final performance of the model.\n",
    "\n",
    "Note that this is just one possible approach to splitting the data into training, validation, and test sets. There are many other ways to do this, and the specific method used may depend on the characteristics of the data and the goals of the analysis.\n",
    "\n",
    "</font>"
   ]
  },
  {
   "cell_type": "code",
   "execution_count": 1,
   "metadata": {},
   "outputs": [],
   "source": [
    "# Import libraries\n",
    "import pandas as pd\n",
    "import matplotlib.pyplot as plt\n",
    "from sklearn.model_selection import train_test_split\n",
    "from sklearn.linear_model import LogisticRegression\n",
    "\n"
   ]
  },
  {
   "cell_type": "code",
   "execution_count": 2,
   "metadata": {},
   "outputs": [],
   "source": [
    "# Load the data\n",
    "data = pd.read_csv('titanic.csv')\n",
    "\n"
   ]
  },
  {
   "cell_type": "code",
   "execution_count": 3,
   "metadata": {},
   "outputs": [
    {
     "data": {
      "text/html": [
       "<div>\n",
       "<style scoped>\n",
       "    .dataframe tbody tr th:only-of-type {\n",
       "        vertical-align: middle;\n",
       "    }\n",
       "\n",
       "    .dataframe tbody tr th {\n",
       "        vertical-align: top;\n",
       "    }\n",
       "\n",
       "    .dataframe thead th {\n",
       "        text-align: right;\n",
       "    }\n",
       "</style>\n",
       "<table border=\"1\" class=\"dataframe\">\n",
       "  <thead>\n",
       "    <tr style=\"text-align: right;\">\n",
       "      <th></th>\n",
       "      <th>passenger_id</th>\n",
       "      <th>survived</th>\n",
       "      <th>pclass</th>\n",
       "      <th>age</th>\n",
       "      <th>sibsp</th>\n",
       "      <th>parch</th>\n",
       "      <th>fare</th>\n",
       "      <th>alone</th>\n",
       "    </tr>\n",
       "  </thead>\n",
       "  <tbody>\n",
       "    <tr>\n",
       "      <th>count</th>\n",
       "      <td>891.000000</td>\n",
       "      <td>891.000000</td>\n",
       "      <td>891.000000</td>\n",
       "      <td>714.000000</td>\n",
       "      <td>891.000000</td>\n",
       "      <td>891.000000</td>\n",
       "      <td>891.000000</td>\n",
       "      <td>891.000000</td>\n",
       "    </tr>\n",
       "    <tr>\n",
       "      <th>mean</th>\n",
       "      <td>445.000000</td>\n",
       "      <td>0.383838</td>\n",
       "      <td>2.308642</td>\n",
       "      <td>29.699118</td>\n",
       "      <td>0.523008</td>\n",
       "      <td>0.381594</td>\n",
       "      <td>32.204208</td>\n",
       "      <td>0.602694</td>\n",
       "    </tr>\n",
       "    <tr>\n",
       "      <th>std</th>\n",
       "      <td>257.353842</td>\n",
       "      <td>0.486592</td>\n",
       "      <td>0.836071</td>\n",
       "      <td>14.526497</td>\n",
       "      <td>1.102743</td>\n",
       "      <td>0.806057</td>\n",
       "      <td>49.693429</td>\n",
       "      <td>0.489615</td>\n",
       "    </tr>\n",
       "    <tr>\n",
       "      <th>min</th>\n",
       "      <td>0.000000</td>\n",
       "      <td>0.000000</td>\n",
       "      <td>1.000000</td>\n",
       "      <td>0.420000</td>\n",
       "      <td>0.000000</td>\n",
       "      <td>0.000000</td>\n",
       "      <td>0.000000</td>\n",
       "      <td>0.000000</td>\n",
       "    </tr>\n",
       "    <tr>\n",
       "      <th>25%</th>\n",
       "      <td>222.500000</td>\n",
       "      <td>0.000000</td>\n",
       "      <td>2.000000</td>\n",
       "      <td>20.125000</td>\n",
       "      <td>0.000000</td>\n",
       "      <td>0.000000</td>\n",
       "      <td>7.910400</td>\n",
       "      <td>0.000000</td>\n",
       "    </tr>\n",
       "    <tr>\n",
       "      <th>50%</th>\n",
       "      <td>445.000000</td>\n",
       "      <td>0.000000</td>\n",
       "      <td>3.000000</td>\n",
       "      <td>28.000000</td>\n",
       "      <td>0.000000</td>\n",
       "      <td>0.000000</td>\n",
       "      <td>14.454200</td>\n",
       "      <td>1.000000</td>\n",
       "    </tr>\n",
       "    <tr>\n",
       "      <th>75%</th>\n",
       "      <td>667.500000</td>\n",
       "      <td>1.000000</td>\n",
       "      <td>3.000000</td>\n",
       "      <td>38.000000</td>\n",
       "      <td>1.000000</td>\n",
       "      <td>0.000000</td>\n",
       "      <td>31.000000</td>\n",
       "      <td>1.000000</td>\n",
       "    </tr>\n",
       "    <tr>\n",
       "      <th>max</th>\n",
       "      <td>890.000000</td>\n",
       "      <td>1.000000</td>\n",
       "      <td>3.000000</td>\n",
       "      <td>80.000000</td>\n",
       "      <td>8.000000</td>\n",
       "      <td>6.000000</td>\n",
       "      <td>512.329200</td>\n",
       "      <td>1.000000</td>\n",
       "    </tr>\n",
       "  </tbody>\n",
       "</table>\n",
       "</div>"
      ],
      "text/plain": [
       "       passenger_id    survived      pclass         age       sibsp  \\\n",
       "count    891.000000  891.000000  891.000000  714.000000  891.000000   \n",
       "mean     445.000000    0.383838    2.308642   29.699118    0.523008   \n",
       "std      257.353842    0.486592    0.836071   14.526497    1.102743   \n",
       "min        0.000000    0.000000    1.000000    0.420000    0.000000   \n",
       "25%      222.500000    0.000000    2.000000   20.125000    0.000000   \n",
       "50%      445.000000    0.000000    3.000000   28.000000    0.000000   \n",
       "75%      667.500000    1.000000    3.000000   38.000000    1.000000   \n",
       "max      890.000000    1.000000    3.000000   80.000000    8.000000   \n",
       "\n",
       "            parch        fare       alone  \n",
       "count  891.000000  891.000000  891.000000  \n",
       "mean     0.381594   32.204208    0.602694  \n",
       "std      0.806057   49.693429    0.489615  \n",
       "min      0.000000    0.000000    0.000000  \n",
       "25%      0.000000    7.910400    0.000000  \n",
       "50%      0.000000   14.454200    1.000000  \n",
       "75%      0.000000   31.000000    1.000000  \n",
       "max      6.000000  512.329200    1.000000  "
      ]
     },
     "execution_count": 3,
     "metadata": {},
     "output_type": "execute_result"
    }
   ],
   "source": [
    "# Perform exploratory data analysis\n",
    "data.describe()\n"
   ]
  },
  {
   "cell_type": "code",
   "execution_count": 5,
   "metadata": {},
   "outputs": [
    {
     "data": {
      "text/plain": [
       "Index(['passenger_id', 'survived', 'pclass', 'sex', 'age', 'sibsp', 'parch',\n",
       "       'fare', 'embarked', 'class', 'deck', 'embark_town', 'alone'],\n",
       "      dtype='object')"
      ]
     },
     "execution_count": 5,
     "metadata": {},
     "output_type": "execute_result"
    }
   ],
   "source": [
    "data.columns"
   ]
  },
  {
   "cell_type": "code",
   "execution_count": 6,
   "metadata": {},
   "outputs": [
    {
     "data": {
      "text/plain": [
       "<AxesSubplot:xlabel='sex,survived'>"
      ]
     },
     "execution_count": 6,
     "metadata": {},
     "output_type": "execute_result"
    },
    {
     "data": {
      "image/png": "[encoded data removed]",
      "text/plain": [
       "<Figure size 432x288 with 1 Axes>"
      ]
     },
     "metadata": {
      "needs_background": "light"
     },
     "output_type": "display_data"
    }
   ],
   "source": [
    "\n",
    "data.groupby(['sex', 'survived']).size().plot(kind='bar')\n",
    "\n"
   ]
  },
  {
   "cell_type": "code",
   "execution_count": 10,
   "metadata": {},
   "outputs": [],
   "source": [
    "from sklearn.preprocessing import LabelEncoder"
   ]
  },
  {
   "cell_type": "code",
   "execution_count": 11,
   "metadata": {},
   "outputs": [],
   "source": [
    "# Convert the data.Sex field to a numerical value\n",
    "le = LabelEncoder()\n",
    "le.fit(data.sex)\n",
    "data.sex = le.transform(data.sex)"
   ]
  },
  {
   "cell_type": "code",
   "execution_count": 15,
   "metadata": {},
   "outputs": [],
   "source": [
    "# Fill missing values in the data.Age field with the median age\n",
    "data['age'] = data['age'].fillna(data['age'].median())"
   ]
  },
  {
   "cell_type": "code",
   "execution_count": 16,
   "metadata": {},
   "outputs": [],
   "source": [
    "# Prepare the data for modeling\n",
    "X = data[['age', 'sex', 'pclass']]\n",
    "y = data['survived']\n",
    "\n"
   ]
  },
  {
   "cell_type": "code",
   "execution_count": 17,
   "metadata": {},
   "outputs": [],
   "source": [
    "# Split the data into a training set, a validation set, and a test set\n",
    "# Stratify the splits by the target variable\n",
    "X_train, X_val, y_train, y_val = train_test_split(X, y, test_size=0.2, stratify=y)\n",
    "X_val, X_test, y_val, y_test = train_test_split(X_val, y_val, test_size=0.5, stratify=y_val)\n",
    "\n"
   ]
  },
  {
   "cell_type": "code",
   "execution_count": 18,
   "metadata": {},
   "outputs": [
    {
     "data": {
      "text/plain": [
       "LogisticRegression()"
      ]
     },
     "execution_count": 18,
     "metadata": {},
     "output_type": "execute_result"
    }
   ],
   "source": [
    "# Train a logistic regression model\n",
    "model = LogisticRegression()\n",
    "model.fit(X_train, y_train)\n",
    "\n"
   ]
  },
  {
   "cell_type": "code",
   "execution_count": 19,
   "metadata": {},
   "outputs": [
    {
     "name": "stdout",
     "output_type": "stream",
     "text": [
      "Accuracy: 0.7640449438202247\n"
     ]
    }
   ],
   "source": [
    "# Evaluate the model on the validation set\n",
    "accuracy = model.score(X_val, y_val)\n",
    "print('Accuracy:', accuracy)\n",
    "\n"
   ]
  },
  {
   "cell_type": "code",
   "execution_count": 20,
   "metadata": {},
   "outputs": [],
   "source": [
    "# Tune the model's hyperparameters using the validation set\n",
    "# ...\n",
    "\n"
   ]
  },
  {
   "cell_type": "code",
   "execution_count": 21,
   "metadata": {},
   "outputs": [
    {
     "name": "stdout",
     "output_type": "stream",
     "text": [
      "Accuracy: 0.8111111111111111\n"
     ]
    }
   ],
   "source": [
    "# Evaluate the final model on the test set\n",
    "accuracy = model.score(X_test, y_test)\n",
    "print('Accuracy:', accuracy)\n"
   ]
  },
  {
   "cell_type": "code",
   "execution_count": null,
   "metadata": {},
   "outputs": [],
   "source": []
  }
 ],
 "metadata": {
  "kernelspec": {
   "display_name": "Python 3.9.12 ('base')",
   "language": "python",
   "name": "python3"
  },
  "language_info": {
   "codemirror_mode": {
    "name": "ipython",
    "version": 3
   },
   "file_extension": ".py",
   "mimetype": "text/x-python",
   "name": "python",
   "nbconvert_exporter": "python",
   "pygments_lexer": "ipython3",
   "version": "3.9.12"
  },
  "orig_nbformat": 4,
  "vscode": {
   "interpreter": {
    "hash": "38cca0c38332a56087b24af0bc80247f4fced29cb4f7f437d91dc159adec9c4e"
   }
  }
 },
 "nbformat": 4,
 "nbformat_minor": 2
}
